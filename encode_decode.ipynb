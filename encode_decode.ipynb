{
 "cells": [
  {
   "cell_type": "code",
   "execution_count": 1,
   "metadata": {},
   "outputs": [],
   "source": [
    "def valid_base(base):\n",
    "    if type(base)==int and base>=2 and base<=36:\n",
    "        return True\n",
    "    return False\n",
    "\n",
    "def base_convert(num,in_base,out_base):\n",
    "    assert valid_base(in_base)\n",
    "    assert valid_base(out_base)\n",
    "    \n",
    "    #in_base to decimal\n",
    "    num = int(str(num),in_base)\n",
    "    \n",
    "    #decimal to out_base\n",
    "    charlist = '0123456789abcdefghijklmnopqrstuvwxyz'\n",
    "    poststr = ''\n",
    "    while True:\n",
    "        quo = num//out_base\n",
    "        rem = num%out_base\n",
    "        poststr += charlist[rem]\n",
    "        num = quo\n",
    "        if num==0:\n",
    "            poststr=poststr[::-1]\n",
    "            break\n",
    "    \n",
    "    return poststr"
   ]
  },
  {
   "cell_type": "code",
   "execution_count": 2,
   "metadata": {},
   "outputs": [],
   "source": [
    "import re\n",
    "\n",
    "def encoder1(text,base):\n",
    "    max_digit = len(base_convert(1200000,10,base))\n",
    "    posttext = ''\n",
    "    for _c in text:\n",
    "        c = base_convert(ord(_c),10,base).zfill(max_digit)\n",
    "        posttext += c\n",
    "    \n",
    "    return posttext\n",
    "\n",
    "def decoder1(text,base):\n",
    "    max_digit = len(base_convert(1200000,10,base))\n",
    "    assert len(text)%max_digit==0\n",
    "    \n",
    "    chars = re.findall('....',text)\n",
    "    posttext = ''\n",
    "    for _c in chars:\n",
    "        c = chr(int(base_convert(_c,base,10)))\n",
    "        posttext += c\n",
    "    \n",
    "    return posttext"
   ]
  },
  {
   "cell_type": "code",
   "execution_count": 4,
   "metadata": {},
   "outputs": [],
   "source": [
    "import collections\n",
    "\n",
    "morsetab = collections.OrderedDict([\n",
    "    ('a', '.-'),\n",
    "    ('b', '-...'),\n",
    "    ('c', '-.-.'),\n",
    "    ('d', '-..'),\n",
    "    ('e', '.'),\n",
    "    ('f', '..-.'),\n",
    "    ('g', '--.'),\n",
    "    ('h', '....'),\n",
    "    ('i', '..'),\n",
    "    ('j', '.---'),\n",
    "    ('k', '-.-'),\n",
    "    ('l', '.-..'),\n",
    "    ('m', '--'),\n",
    "    ('n', '-.'),\n",
    "    ('o', '---'),\n",
    "    ('p', '.--.'),\n",
    "    ('q', '--.-'),\n",
    "    ('r', '.-.'),\n",
    "    ('s', '...'),\n",
    "    ('t', '-'),\n",
    "    ('u', '..-'),\n",
    "    ('v', '...-'),\n",
    "    ('w', '.--'),\n",
    "    ('x', '-..-'),\n",
    "    ('y', '-.--'),\n",
    "    ('z', '--..'),\n",
    "    ('0', '-----'),\n",
    "    ('1', '.----'),\n",
    "    ('2', '..---'),\n",
    "    ('3', '...--'),\n",
    "    ('4', '....-'),\n",
    "    ('5', '.....'),\n",
    "    ('6', '-....'),\n",
    "    ('7', '--...'),\n",
    "    ('8', '---..'),\n",
    "    ('9', '----.')\n",
    "])\n",
    "\n",
    "countermorsetab = collections.OrderedDict([(v,k) for k,v in morsetab.items()])\n",
    "\n",
    "def encoder2(text):\n",
    "    morse = ''\n",
    "    for _c in text:\n",
    "        assert _c in morsetab.keys()\n",
    "        morse += morsetab[_c]+' '\n",
    "    morse = morse[:-1]\n",
    "    \n",
    "    return morse\n",
    "\n",
    "def decoder2(morse):\n",
    "    text = ''\n",
    "    morse = morse.split(' ')\n",
    "    for _c in morse:\n",
    "        text += countermorsetab[_c]\n",
    "    \n",
    "    return text"
   ]
  },
  {
   "cell_type": "code",
   "execution_count": null,
   "metadata": {},
   "outputs": [],
   "source": [
    "#to emoji?\n",
    "#def encoder3()"
   ]
  },
  {
   "cell_type": "code",
   "execution_count": 5,
   "metadata": {},
   "outputs": [
    {
     "name": "stdout",
     "output_type": "stream",
     "text": [
      "0sq60pwd0hkj0pw400330038003e002x003c0038002x003e\n"
     ]
    }
   ],
   "source": [
    "test_text = '自由使用internet'\n",
    "base = 34\n",
    "\n",
    "encode1 = encoder1(test_text,base)\n",
    "print(encode1)"
   ]
  },
  {
   "cell_type": "code",
   "execution_count": 6,
   "metadata": {},
   "outputs": [
    {
     "data": {
      "text/plain": [
       "'自由使用internet'"
      ]
     },
     "execution_count": 6,
     "metadata": {},
     "output_type": "execute_result"
    }
   ],
   "source": [
    "decoder1(encode1,base)"
   ]
  },
  {
   "cell_type": "code",
   "execution_count": 7,
   "metadata": {},
   "outputs": [
    {
     "name": "stdout",
     "output_type": "stream",
     "text": [
      "----- ... --.- -.... ----- .--. .-- -.. ----- .... -.- .--- ----- .--. .-- ....- ----- ----- ...-- ...-- ----- ----- ...-- ---.. ----- ----- ...-- . ----- ----- ..--- -..- ----- ----- ...-- -.-. ----- ----- ...-- ---.. ----- ----- ..--- -..- ----- ----- ...-- .\n"
     ]
    }
   ],
   "source": [
    "test_text = '自由使用internet'\n",
    "base = 34\n",
    "\n",
    "encode1 = encoder1(test_text,base)\n",
    "#print(encode1)\n",
    "encode2 = encoder2(encode1)\n",
    "print(encode2)"
   ]
  },
  {
   "cell_type": "code",
   "execution_count": 8,
   "metadata": {},
   "outputs": [
    {
     "data": {
      "text/plain": [
       "'自由使用internet'"
      ]
     },
     "execution_count": 8,
     "metadata": {},
     "output_type": "execute_result"
    }
   ],
   "source": [
    "decoder1(decoder2(encode2),base)"
   ]
  },
  {
   "cell_type": "code",
   "execution_count": null,
   "metadata": {},
   "outputs": [],
   "source": []
  }
 ],
 "metadata": {
  "kernelspec": {
   "display_name": "Python 3",
   "language": "python",
   "name": "python3"
  },
  "language_info": {
   "codemirror_mode": {
    "name": "ipython",
    "version": 3
   },
   "file_extension": ".py",
   "mimetype": "text/x-python",
   "name": "python",
   "nbconvert_exporter": "python",
   "pygments_lexer": "ipython3",
   "version": "3.6.3"
  }
 },
 "nbformat": 4,
 "nbformat_minor": 2
}
